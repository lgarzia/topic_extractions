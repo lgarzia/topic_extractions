{
 "cells": [
  {
   "cell_type": "code",
   "execution_count": 11,
   "metadata": {},
   "outputs": [],
   "source": [
    "rss = \"https://talkpython.fm/episodes/rss\""
   ]
  },
  {
   "attachments": {},
   "cell_type": "markdown",
   "metadata": {},
   "source": [
    "<enclosure url=\"https://talkpython.fm/episodes/download/404/clean-code-in-python.mp3\"\n",
    "                       length=\"61087702\"\n",
    "                       type=\"audio/mpeg\"/>"
   ]
  },
  {
   "cell_type": "code",
   "execution_count": 12,
   "metadata": {},
   "outputs": [
    {
     "name": "stdout",
     "output_type": "stream",
     "text": [
      "[\u001b[2m2023-02-23 16:44:41\u001b[0m] Loading configuration (from file: \"\u001b[97mc:\\Users\\lgarzia\\Documents\\GitHub\\topic_extractions\\.podcast_downloader_config.json\u001b[0m\")\n",
      "[\u001b[2m2023-02-23 16:44:41\u001b[0m] Checking \"\u001b[97mTalk Python\u001b[0m\"\n",
      "[\u001b[2m2023-02-23 16:44:41\u001b[0m] Last downloaded file \"\u001b[97m<none>\u001b[0m\"\n",
      "[\u001b[2m2023-02-23 16:44:41\u001b[0m] \u001b[97mTalk Python\u001b[0m: Nothing new\n",
      "[\u001b[2m2023-02-23 16:44:41\u001b[0m] ------------------------------\n",
      "[\u001b[2m2023-02-23 16:44:41\u001b[0m] Finished\n"
     ]
    }
   ],
   "source": [
    "!python -m podcast_downloader"
   ]
  },
  {
   "attachments": {},
   "cell_type": "markdown",
   "metadata": {},
   "source": [
    "painpoints \n",
    "doesnt just create directory?"
   ]
  },
  {
   "cell_type": "code",
   "execution_count": null,
   "metadata": {},
   "outputs": [],
   "source": []
  }
 ],
 "metadata": {
  "kernelspec": {
   "display_name": "venv",
   "language": "python",
   "name": "python3"
  },
  "language_info": {
   "codemirror_mode": {
    "name": "ipython",
    "version": 3
   },
   "file_extension": ".py",
   "mimetype": "text/x-python",
   "name": "python",
   "nbconvert_exporter": "python",
   "pygments_lexer": "ipython3",
   "version": "3.10.9"
  },
  "orig_nbformat": 4,
  "vscode": {
   "interpreter": {
    "hash": "50c2f3fdaff21cf524066e6f7d306be0b9f081a5cbf5acb3eba5a76347fee337"
   }
  }
 },
 "nbformat": 4,
 "nbformat_minor": 2
}
