{
 "cells": [
  {
   "attachments": {},
   "cell_type": "markdown",
   "metadata": {},
   "source": [
    "Yake (Yet Another Keyword Extractor)\n",
    "https://github.com/LIAAD/yake\n",
    "\n",
    "YAKE! is a light-weight unsupervised automatic keyword extraction method which rests on text statistical features extracted from single documents to select the most important keywords of a text.\n",
    "\n",
    "against ten state-of-the-art unsupervised approaches \n",
    "(**TF.IDF**, KP-Miner, **RAKE**, **TextRank**, SingleRank, ExpandRank, TopicRank, TopicalPageRank, PositionRank and MultipartiteRank), and one supervised method (KEA)."
   ]
  },
  {
   "cell_type": "code",
   "execution_count": 1,
   "metadata": {},
   "outputs": [],
   "source": [
    "import yake"
   ]
  },
  {
   "cell_type": "code",
   "execution_count": 2,
   "metadata": {},
   "outputs": [],
   "source": [
    "text_path = r\"artifacts\\text_samples\\example_1.txt\"\n",
    "with open(text_path, \"r\") as f:\n",
    "    text = f.read()"
   ]
  },
  {
   "cell_type": "code",
   "execution_count": 3,
   "metadata": {},
   "outputs": [
    {
     "name": "stdout",
     "output_type": "stream",
     "text": [
      "('Legacy Code Monitor', 0.0015272252796314318)\n",
      "('dreaded Legacy Code', 0.00681069951606944)\n",
      "('Clean code', 0.0076051278807414725)\n",
      "('Talk Python', 0.007656111477141163)\n",
      "('Python', 0.010970390233864976)\n",
      "('code', 0.012129502521247991)\n",
      "('Yeah', 0.01651375973096312)\n",
      "('Talk', 0.019095401176828182)\n",
      "('Code Monitor', 0.020452810589402064)\n",
      "('Legacy Code', 0.020772401296328732)\n",
      "('writing clean code', 0.020778407989670972)\n",
      "('dreaded Legacy', 0.02213960025757037)\n",
      "('back', 0.022531884626355785)\n",
      "('Clean', 0.024980829131354233)\n",
      "('Good', 0.04768937646220991)\n",
      "('Bob Biltervos back', 0.04773663289520345)\n",
      "('Clean Code thing', 0.058129684442697956)\n",
      "('lot', 0.05943625992948216)\n",
      "('writing clean', 0.06193655361560543)\n",
      "('work', 0.062496885443555195)\n"
     ]
    }
   ],
   "source": [
    "kw_extractor = yake.KeywordExtractor()\n",
    "keywords = kw_extractor.extract_keywords(text)\n",
    "\n",
    "for kw in keywords:\n",
    "\tprint(kw)"
   ]
  },
  {
   "cell_type": "code",
   "execution_count": null,
   "metadata": {},
   "outputs": [],
   "source": []
  }
 ],
 "metadata": {
  "kernelspec": {
   "display_name": "venv",
   "language": "python",
   "name": "python3"
  },
  "language_info": {
   "codemirror_mode": {
    "name": "ipython",
    "version": 3
   },
   "file_extension": ".py",
   "mimetype": "text/x-python",
   "name": "python",
   "nbconvert_exporter": "python",
   "pygments_lexer": "ipython3",
   "version": "3.10.9"
  },
  "orig_nbformat": 4,
  "vscode": {
   "interpreter": {
    "hash": "50c2f3fdaff21cf524066e6f7d306be0b9f081a5cbf5acb3eba5a76347fee337"
   }
  }
 },
 "nbformat": 4,
 "nbformat_minor": 2
}
