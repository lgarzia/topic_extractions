{
 "cells": [
  {
   "cell_type": "code",
   "execution_count": 1,
   "metadata": {},
   "outputs": [],
   "source": [
    "# Research into KeyBERT\n",
    "# https://pypi.org/project/keybert/\n",
    "# https://towardsdatascience.com/keyword-extraction-with-bert-724efca412ea"
   ]
  },
  {
   "attachments": {},
   "cell_type": "markdown",
   "metadata": {},
   "source": [
    "Other approaches - RAKE - https://github.com/aneesha/RAKE\n",
    "Yake! - https://github.com/LIAAD/yake\n"
   ]
  },
  {
   "cell_type": "code",
   "execution_count": 2,
   "metadata": {},
   "outputs": [],
   "source": [
    "text_path = r\"artifacts\\text_samples\\example_1.txt\"\n",
    "with open(text_path, \"r\") as f:\n",
    "    text = f.read()"
   ]
  },
  {
   "cell_type": "code",
   "execution_count": 3,
   "metadata": {},
   "outputs": [],
   "source": [
    "from keybert import KeyBERT"
   ]
  },
  {
   "cell_type": "code",
   "execution_count": 4,
   "metadata": {},
   "outputs": [
    {
     "data": {
      "application/vnd.jupyter.widget-view+json": {
       "model_id": "d626e44f643d420c80530273fa9d7c5c",
       "version_major": 2,
       "version_minor": 0
      },
      "text/plain": [
       "Downloading (…)e9125/.gitattributes:   0%|          | 0.00/1.18k [00:00<?, ?B/s]"
      ]
     },
     "metadata": {},
     "output_type": "display_data"
    },
    {
     "data": {
      "application/vnd.jupyter.widget-view+json": {
       "model_id": "aaafb3fccce142499e9ce7edb4c82558",
       "version_major": 2,
       "version_minor": 0
      },
      "text/plain": [
       "Downloading (…)_Pooling/config.json:   0%|          | 0.00/190 [00:00<?, ?B/s]"
      ]
     },
     "metadata": {},
     "output_type": "display_data"
    },
    {
     "data": {
      "application/vnd.jupyter.widget-view+json": {
       "model_id": "210fdfe2f92b4b00be3f938a163d0d0e",
       "version_major": 2,
       "version_minor": 0
      },
      "text/plain": [
       "Downloading (…)7e55de9125/README.md:   0%|          | 0.00/10.6k [00:00<?, ?B/s]"
      ]
     },
     "metadata": {},
     "output_type": "display_data"
    },
    {
     "data": {
      "application/vnd.jupyter.widget-view+json": {
       "model_id": "508e7134c67e450ca57fa148a6c6b2d8",
       "version_major": 2,
       "version_minor": 0
      },
      "text/plain": [
       "Downloading (…)55de9125/config.json:   0%|          | 0.00/612 [00:00<?, ?B/s]"
      ]
     },
     "metadata": {},
     "output_type": "display_data"
    },
    {
     "data": {
      "application/vnd.jupyter.widget-view+json": {
       "model_id": "c2074d4672214668b3b60f0c90ee706d",
       "version_major": 2,
       "version_minor": 0
      },
      "text/plain": [
       "Downloading (…)ce_transformers.json:   0%|          | 0.00/116 [00:00<?, ?B/s]"
      ]
     },
     "metadata": {},
     "output_type": "display_data"
    },
    {
     "data": {
      "application/vnd.jupyter.widget-view+json": {
       "model_id": "259416f361f146ac94140a4b20a38d8a",
       "version_major": 2,
       "version_minor": 0
      },
      "text/plain": [
       "Downloading (…)125/data_config.json:   0%|          | 0.00/39.3k [00:00<?, ?B/s]"
      ]
     },
     "metadata": {},
     "output_type": "display_data"
    },
    {
     "data": {
      "application/vnd.jupyter.widget-view+json": {
       "model_id": "492851026d5743529dfa407973f51fe3",
       "version_major": 2,
       "version_minor": 0
      },
      "text/plain": [
       "Downloading (…)\"pytorch_model.bin\";:   0%|          | 0.00/90.9M [00:00<?, ?B/s]"
      ]
     },
     "metadata": {},
     "output_type": "display_data"
    },
    {
     "data": {
      "application/vnd.jupyter.widget-view+json": {
       "model_id": "354d574ebab8477aad336816ecd2651e",
       "version_major": 2,
       "version_minor": 0
      },
      "text/plain": [
       "Downloading (…)nce_bert_config.json:   0%|          | 0.00/53.0 [00:00<?, ?B/s]"
      ]
     },
     "metadata": {},
     "output_type": "display_data"
    },
    {
     "data": {
      "application/vnd.jupyter.widget-view+json": {
       "model_id": "bc6a537ecac14cd5a80e86733c5c3918",
       "version_major": 2,
       "version_minor": 0
      },
      "text/plain": [
       "Downloading (…)cial_tokens_map.json:   0%|          | 0.00/112 [00:00<?, ?B/s]"
      ]
     },
     "metadata": {},
     "output_type": "display_data"
    },
    {
     "data": {
      "application/vnd.jupyter.widget-view+json": {
       "model_id": "b42791a95da743fe9cb0ff32ac0d0eed",
       "version_major": 2,
       "version_minor": 0
      },
      "text/plain": [
       "Downloading (…)e9125/tokenizer.json:   0%|          | 0.00/466k [00:00<?, ?B/s]"
      ]
     },
     "metadata": {},
     "output_type": "display_data"
    },
    {
     "data": {
      "application/vnd.jupyter.widget-view+json": {
       "model_id": "6dde0fa017b34473835d554b5199d150",
       "version_major": 2,
       "version_minor": 0
      },
      "text/plain": [
       "Downloading (…)okenizer_config.json:   0%|          | 0.00/350 [00:00<?, ?B/s]"
      ]
     },
     "metadata": {},
     "output_type": "display_data"
    },
    {
     "data": {
      "application/vnd.jupyter.widget-view+json": {
       "model_id": "43fe5479e6d044869fe7ded1a37689e8",
       "version_major": 2,
       "version_minor": 0
      },
      "text/plain": [
       "Downloading (…)9125/train_script.py:   0%|          | 0.00/13.2k [00:00<?, ?B/s]"
      ]
     },
     "metadata": {},
     "output_type": "display_data"
    },
    {
     "data": {
      "application/vnd.jupyter.widget-view+json": {
       "model_id": "7e4671946b704370b458cce59b67ba32",
       "version_major": 2,
       "version_minor": 0
      },
      "text/plain": [
       "Downloading (…)7e55de9125/vocab.txt:   0%|          | 0.00/232k [00:00<?, ?B/s]"
      ]
     },
     "metadata": {},
     "output_type": "display_data"
    },
    {
     "data": {
      "application/vnd.jupyter.widget-view+json": {
       "model_id": "f0a60ae66dc346b8b290a33544840237",
       "version_major": 2,
       "version_minor": 0
      },
      "text/plain": [
       "Downloading (…)5de9125/modules.json:   0%|          | 0.00/349 [00:00<?, ?B/s]"
      ]
     },
     "metadata": {},
     "output_type": "display_data"
    }
   ],
   "source": [
    "kw_model = KeyBERT()\n",
    "keywords = kw_model.extract_keywords(text)"
   ]
  },
  {
   "cell_type": "code",
   "execution_count": 5,
   "metadata": {},
   "outputs": [
    {
     "data": {
      "text/plain": [
       "[('python', 0.4354),\n",
       " ('podcast', 0.4),\n",
       " ('talkpython', 0.3729),\n",
       " ('programming', 0.3538),\n",
       " ('cleanness', 0.3326)]"
      ]
     },
     "execution_count": 5,
     "metadata": {},
     "output_type": "execute_result"
    }
   ],
   "source": [
    "keywords"
   ]
  },
  {
   "cell_type": "code",
   "execution_count": 6,
   "metadata": {},
   "outputs": [],
   "source": [
    "keywords = kw_model.extract_keywords(text, keyphrase_ngram_range=(1,2))"
   ]
  },
  {
   "cell_type": "code",
   "execution_count": 7,
   "metadata": {},
   "outputs": [
    {
     "data": {
      "text/plain": [
       "[('talk python', 0.5674),\n",
       " ('podcast python', 0.5513),\n",
       " ('clean code', 0.4951),\n",
       " ('python episode', 0.4836),\n",
       " ('cleanness code', 0.4777)]"
      ]
     },
     "execution_count": 7,
     "metadata": {},
     "output_type": "execute_result"
    }
   ],
   "source": [
    "keywords"
   ]
  },
  {
   "cell_type": "code",
   "execution_count": 8,
   "metadata": {},
   "outputs": [
    {
     "data": {
      "text/html": [
       "<pre style=\"white-space:pre;overflow-x:auto;line-height:normal;font-family:Menlo,'DejaVu Sans Mono',consolas,'Courier New',monospace\">Clean code is one of those aspects of your <span style=\"color: #000000; text-decoration-color: #000000; background-color: #ffff00\">programming</span> career that easy to put on the back burner sometimes more by\n",
       "management than yourself but it important in the short term for writing more debuggable and readable code and it \n",
       "important in the long run for avoiding having your program take on the dreaded Legacy Code Monitor We re fortunate \n",
       "to have Bob Biltervos back on the show He been thinking and writing about clean code and <span style=\"color: #000000; text-decoration-color: #000000; background-color: #ffff00\">Python</span> lot lately and we \n",
       "ll dive into bunch of tips that you can use right away to make your code cleaner more fun to work with easy to read\n",
       "and more maintainable This is Talk <span style=\"color: #000000; text-decoration-color: #000000; background-color: #ffff00\">Python</span> to me episode 404 recorded February 12th 2023 Welcome to Talk <span style=\"color: #000000; text-decoration-color: #000000; background-color: #ffff00\">Python</span> to \n",
       "me weekly <span style=\"color: #000000; text-decoration-color: #000000; background-color: #ffff00\">podcast</span> on <span style=\"color: #000000; text-decoration-color: #000000; background-color: #ffff00\">Python</span> This is your host Michael Kennedy Follow me on Macedon where at Kennedy and follow the \n",
       "<span style=\"color: #000000; text-decoration-color: #000000; background-color: #ffff00\">podcast</span> using at Talk <span style=\"color: #000000; text-decoration-color: #000000; background-color: #ffff00\">Python</span> both on bossstaton org Be careful with in personity and accounts on other instances \n",
       "there are many Keep up with the show and listen to over seven years of past episodes at Talk <span style=\"color: #000000; text-decoration-color: #000000; background-color: #ffff00\">Python</span> fm We ve \n",
       "started streaming most of our episodes live on YouTube Subscribe to our YouTube channel over at <span style=\"color: #000000; text-decoration-color: #000000; background-color: #ffff00\">TalkPython</span> fm slash\n",
       "YouTube to get notified of about upcoming shows and be part of that episode This episode of Talk <span style=\"color: #000000; text-decoration-color: #000000; background-color: #ffff00\">Python</span> may be \n",
       "brought to you by TyPy They re here to take on the challenge of rapidly transforming bare algorithm and <span style=\"color: #000000; text-decoration-color: #000000; background-color: #ffff00\">Python</span> into\n",
       "full fledged decision support system Check them out at Talk <span style=\"color: #000000; text-decoration-color: #000000; background-color: #ffff00\">Python</span> fm slash TyPy and it also brought to you by my \n",
       "friends over at Brilliant Stay on top of technology and raise your value to employers or just learn something fun \n",
       "and STEM at Brilliant org Visit Talk <span style=\"color: #000000; text-decoration-color: #000000; background-color: #ffff00\">Python</span> fm slash Brilliant to get 20 off an annual premium subscription Bob \n",
       "welcome back to Talk <span style=\"color: #000000; text-decoration-color: #000000; background-color: #ffff00\">Python</span> to me Thanks for having me back excited to be here Yeah it really great to have you \n",
       "back You ve been on couple of times We started believe our first discussion on the show Way Back When was around \n",
       "100 days of code We went on quite the 100 days of code journey writing couple of really really long courses that \n",
       "were well received but it took long you know like nine months for us to write which was amazing And we re back \n",
       "together It great to catch up Yeah indeed Yeah that goes way back to 100 days of <span style=\"color: #000000; text-decoration-color: #000000; background-color: #ffff00\">Python</span> and two courses that came \n",
       "from it And think we also did Django episode Yeah That right We did do Django episode as well Good stuff So this \n",
       "time we re back to talk about code quality writing clean code what are some of the tools and also what are some of \n",
       "the techniques maybe even mindset people are using to help them write clean code better code both for yourself to \n",
       "make yourself happy and as well to be better teammate if you re working in the team right Yeah This topic really \n",
       "excites me It in my everyday work And think there lot to game from it So yeah excited to share today am too It \n",
       "something really really care lot about It one of those topics that think is long lived which is rare in software \n",
       "development It not the latest JavaScript framework or something that going to last for year or two These ideas are \n",
       "the kind of ideas that just no matter what you re doing even if you don do <span style=\"color: #000000; text-decoration-color: #000000; background-color: #ffff00\">Python</span> if you do something else it very \n",
       "likely that these are solid foundations Some of the ideas will be specifically for <span style=\"color: #000000; text-decoration-color: #000000; background-color: #ffff00\">Python</span> but many of them not Yeah\n",
       "timeless stuff Yeah those are the good ones that are worth putting your time into learning Now before we jump into \n",
       "that topic which is going to be good maybe just tell people what you re up to These days so left Oracle while back \n",
       "think we spoke about that in 2020 So ve been working on PyBytes full times for almost three years Congratulations \n",
       "know you and spoke about this beforehand and it was really big step for you It was Something you were absolutely \n",
       "looking forward to but just walking away from good paying job that scary So congratulations Yeah thanks This is \n",
       "also around the time that as PyBytes we pivoted to doing coaching so helping people one to one we created our \n",
       "PyBytes developer mindset program 12 week coaching program and that really took off We have work now with 100 plus \n",
       "people and but super excited about every day when wake up because helping people overcoming the tutorial of \n",
       "practice is embracing imposter syndrome helping them shipping two projects and it just the best thing ever Yeah You\n",
       "see people grow and become more confident and get better and yeah it really it excellent work isn it Yeah it really\n",
       "fulfilling Yeah So congratulations It awesome to hear that you re doing that now and you can put all of your energy\n",
       "not just your side hustle energy into these types of things which could tell you feels real good You know how it is\n",
       "right do do ve been in it for while Very fortunate Okay So let start this off with looking at your article but \n",
       "before we do Tune Army Captain has really great way to sort of kick off this topic believe Clean code has less or \n",
       "fewer WTFs per line about that Nice So yeah that think that going to be theme here Let go ahead and jump into it \n",
       "reached out to you and said hey let get together and talk about this because knew that you were passionate about \n",
       "these things but then you also put together blog post here called Tips for Clean Code in <span style=\"color: #000000; text-decoration-color: #000000; background-color: #ffff00\">Python</span> thought okay that \n",
       "interesting Let me start flipping through here And there just bunch of nice ideas that resonate with me So what \n",
       "thought we could do is maybe you could set the stage like what the heck is Clean Code Tune Army did do pretty good \n",
       "job of kind of giving us the colloquial term but you ll maybe something little more safe for conformal we could go \n",
       "with Set the stage for what is Clean Code Why does it matter And then we could dive into some of the stuff you put \n",
       "into your article And then also you and both threw some ideas in after it like to kind of expand it as well So let \n",
       "let start with what is this Clean Code thing Yeah So set off the stage So Clean Code is really when you write code \n",
       "that easier to maintain easier to test easier to update because as we all know project usually starts simple but \n",
       "over time it grows new requirements comes in You constantly have to change things And yeah the <span style=\"color: #000000; text-decoration-color: #000000; background-color: #ffff00\">cleanness</span> of your \n",
       "code will definitely determine how easy you can move project forward How you can make changes And of course it also\n",
       "contribution to your team to make it more pleasant experience and decrease the amount of WTFs Yeah you don want to \n",
       "fewer the better although maybe you ll even want to and just for good war story at conference five years from now \n",
       "but you don want too many of those And think it appreciating the fact that if you do good job what you re building \n",
       "will live long time right It will possibly be still the main focus in five years from now And you don always know \n",
       "what that going to be right It could be oh here little side project It just going to pull in some data and like you\n",
       "know you show it to somebody at work and like you know what That great Shipping Like whoa whoa whoa whoa whoa ship \n",
       "it No no just threw it together It it good Let go Like we re in hurry you know and then that just starts to build \n",
       "and layer on like sediment that just makes it harder and less fun to work with And so as you just think about this \n",
       "thing is small now but as it grows what are the both the practices and maybe technological <span style=\"color: #000000; text-decoration-color: #000000; background-color: #ffff00\">programming</span> things to \n",
       "bring in put in place so that as it grows you don start to just really come to screeching halt to make changes It \n",
       "test start to fail randomly as you just touch it in various places things like that right Yeah It was also kind of \n",
       "my introduction to <span style=\"color: #000000; text-decoration-color: #000000; background-color: #ffff00\">Python</span> in 2012 So almost 11 years ago when made this automation framework at work and was big \n",
       "fan of Pearl back then guess that goes back to my Unix shell scripting initial <span style=\"color: #000000; text-decoration-color: #000000; background-color: #ffff00\">programming</span> exploration And it was \n",
       "not maintainable at all right There were no classes in Pearl and it was just mess Also of course because did no \n",
       "Pearl maybe very well But then discovered <span style=\"color: #000000; text-decoration-color: #000000; background-color: #ffff00\">Python</span> and could refactor it make it more modular and that project was \n",
       "then just joy to work with And maybe that says lot about <span style=\"color: #000000; text-decoration-color: #000000; background-color: #ffff00\">Python</span> as well that it does inherently things well because\n",
       "if you type in port this into REPL and you get the center of <span style=\"color: #000000; text-decoration-color: #000000; background-color: #ffff00\">Python</span> lot of these statements sound so simple that \n",
       "they re actually so profound and they actually tell you lot about writing clean code in sense So anyway but digress\n",
       "They do They also talk lot about the community that cares enough that you know you have these sorts of commands in \n",
       "the language itself that remind you to think about writing clean code And going way back to the late 80s you know \n",
       "when he came up with it really broke with tradition to use white space for the code structure And think it little \n",
       "bit less so now but back then that was very much to encourage people to write code in way that was very readable \n",
       "Whereas you know say less so than now because you ve got lot of IDEs and stuff We can push button and it ll auto \n",
       "format it and you ve got things like black And you know if you had curly races like it could still be quickly put \n",
       "into pretty shape now But in the early days that was really important concept of it These days were spoiled right \n",
       "Having black out of formatting and all that And when we started that was not the case How did you react to the \n",
       "white space thing when you first started it just really didn like it thought this is just weird Like okay \n",
       "everything else about this language seems pretty nice But this is weird stuff Then started using editors that \n",
       "understood it So like okay well just hit you know colon and enter in it It kind of does it for me automatically And\n",
       "sure there three spaces four spaces but if have backspace then it goes back forward It kind of treats it the \n",
       "structure The tools know the structure And it makes it really nice And at the time this is the long as doing sharp \n",
       "which is an okay language It pretty good But it has all the symbols and formulas and all the\n",
       "</pre>\n"
      ],
      "text/plain": [
       "Clean code is one of those aspects of your \u001b[30;48;2;255;255;0mprogramming\u001b[0m career that easy to put on the back burner sometimes more by\n",
       "management than yourself but it important in the short term for writing more debuggable and readable code and it \n",
       "important in the long run for avoiding having your program take on the dreaded Legacy Code Monitor We re fortunate \n",
       "to have Bob Biltervos back on the show He been thinking and writing about clean code and \u001b[30;48;2;255;255;0mPython\u001b[0m lot lately and we \n",
       "ll dive into bunch of tips that you can use right away to make your code cleaner more fun to work with easy to read\n",
       "and more maintainable This is Talk \u001b[30;48;2;255;255;0mPython\u001b[0m to me episode 404 recorded February 12th 2023 Welcome to Talk \u001b[30;48;2;255;255;0mPython\u001b[0m to \n",
       "me weekly \u001b[30;48;2;255;255;0mpodcast\u001b[0m on \u001b[30;48;2;255;255;0mPython\u001b[0m This is your host Michael Kennedy Follow me on Macedon where at Kennedy and follow the \n",
       "\u001b[30;48;2;255;255;0mpodcast\u001b[0m using at Talk \u001b[30;48;2;255;255;0mPython\u001b[0m both on bossstaton org Be careful with in personity and accounts on other instances \n",
       "there are many Keep up with the show and listen to over seven years of past episodes at Talk \u001b[30;48;2;255;255;0mPython\u001b[0m fm We ve \n",
       "started streaming most of our episodes live on YouTube Subscribe to our YouTube channel over at \u001b[30;48;2;255;255;0mTalkPython\u001b[0m fm slash\n",
       "YouTube to get notified of about upcoming shows and be part of that episode This episode of Talk \u001b[30;48;2;255;255;0mPython\u001b[0m may be \n",
       "brought to you by TyPy They re here to take on the challenge of rapidly transforming bare algorithm and \u001b[30;48;2;255;255;0mPython\u001b[0m into\n",
       "full fledged decision support system Check them out at Talk \u001b[30;48;2;255;255;0mPython\u001b[0m fm slash TyPy and it also brought to you by my \n",
       "friends over at Brilliant Stay on top of technology and raise your value to employers or just learn something fun \n",
       "and STEM at Brilliant org Visit Talk \u001b[30;48;2;255;255;0mPython\u001b[0m fm slash Brilliant to get 20 off an annual premium subscription Bob \n",
       "welcome back to Talk \u001b[30;48;2;255;255;0mPython\u001b[0m to me Thanks for having me back excited to be here Yeah it really great to have you \n",
       "back You ve been on couple of times We started believe our first discussion on the show Way Back When was around \n",
       "100 days of code We went on quite the 100 days of code journey writing couple of really really long courses that \n",
       "were well received but it took long you know like nine months for us to write which was amazing And we re back \n",
       "together It great to catch up Yeah indeed Yeah that goes way back to 100 days of \u001b[30;48;2;255;255;0mPython\u001b[0m and two courses that came \n",
       "from it And think we also did Django episode Yeah That right We did do Django episode as well Good stuff So this \n",
       "time we re back to talk about code quality writing clean code what are some of the tools and also what are some of \n",
       "the techniques maybe even mindset people are using to help them write clean code better code both for yourself to \n",
       "make yourself happy and as well to be better teammate if you re working in the team right Yeah This topic really \n",
       "excites me It in my everyday work And think there lot to game from it So yeah excited to share today am too It \n",
       "something really really care lot about It one of those topics that think is long lived which is rare in software \n",
       "development It not the latest JavaScript framework or something that going to last for year or two These ideas are \n",
       "the kind of ideas that just no matter what you re doing even if you don do \u001b[30;48;2;255;255;0mPython\u001b[0m if you do something else it very \n",
       "likely that these are solid foundations Some of the ideas will be specifically for \u001b[30;48;2;255;255;0mPython\u001b[0m but many of them not Yeah\n",
       "timeless stuff Yeah those are the good ones that are worth putting your time into learning Now before we jump into \n",
       "that topic which is going to be good maybe just tell people what you re up to These days so left Oracle while back \n",
       "think we spoke about that in 2020 So ve been working on PyBytes full times for almost three years Congratulations \n",
       "know you and spoke about this beforehand and it was really big step for you It was Something you were absolutely \n",
       "looking forward to but just walking away from good paying job that scary So congratulations Yeah thanks This is \n",
       "also around the time that as PyBytes we pivoted to doing coaching so helping people one to one we created our \n",
       "PyBytes developer mindset program 12 week coaching program and that really took off We have work now with 100 plus \n",
       "people and but super excited about every day when wake up because helping people overcoming the tutorial of \n",
       "practice is embracing imposter syndrome helping them shipping two projects and it just the best thing ever Yeah You\n",
       "see people grow and become more confident and get better and yeah it really it excellent work isn it Yeah it really\n",
       "fulfilling Yeah So congratulations It awesome to hear that you re doing that now and you can put all of your energy\n",
       "not just your side hustle energy into these types of things which could tell you feels real good You know how it is\n",
       "right do do ve been in it for while Very fortunate Okay So let start this off with looking at your article but \n",
       "before we do Tune Army Captain has really great way to sort of kick off this topic believe Clean code has less or \n",
       "fewer WTFs per line about that Nice So yeah that think that going to be theme here Let go ahead and jump into it \n",
       "reached out to you and said hey let get together and talk about this because knew that you were passionate about \n",
       "these things but then you also put together blog post here called Tips for Clean Code in \u001b[30;48;2;255;255;0mPython\u001b[0m thought okay that \n",
       "interesting Let me start flipping through here And there just bunch of nice ideas that resonate with me So what \n",
       "thought we could do is maybe you could set the stage like what the heck is Clean Code Tune Army did do pretty good \n",
       "job of kind of giving us the colloquial term but you ll maybe something little more safe for conformal we could go \n",
       "with Set the stage for what is Clean Code Why does it matter And then we could dive into some of the stuff you put \n",
       "into your article And then also you and both threw some ideas in after it like to kind of expand it as well So let \n",
       "let start with what is this Clean Code thing Yeah So set off the stage So Clean Code is really when you write code \n",
       "that easier to maintain easier to test easier to update because as we all know project usually starts simple but \n",
       "over time it grows new requirements comes in You constantly have to change things And yeah the \u001b[30;48;2;255;255;0mcleanness\u001b[0m of your \n",
       "code will definitely determine how easy you can move project forward How you can make changes And of course it also\n",
       "contribution to your team to make it more pleasant experience and decrease the amount of WTFs Yeah you don want to \n",
       "fewer the better although maybe you ll even want to and just for good war story at conference five years from now \n",
       "but you don want too many of those And think it appreciating the fact that if you do good job what you re building \n",
       "will live long time right It will possibly be still the main focus in five years from now And you don always know \n",
       "what that going to be right It could be oh here little side project It just going to pull in some data and like you\n",
       "know you show it to somebody at work and like you know what That great Shipping Like whoa whoa whoa whoa whoa ship \n",
       "it No no just threw it together It it good Let go Like we re in hurry you know and then that just starts to build \n",
       "and layer on like sediment that just makes it harder and less fun to work with And so as you just think about this \n",
       "thing is small now but as it grows what are the both the practices and maybe technological \u001b[30;48;2;255;255;0mprogramming\u001b[0m things to \n",
       "bring in put in place so that as it grows you don start to just really come to screeching halt to make changes It \n",
       "test start to fail randomly as you just touch it in various places things like that right Yeah It was also kind of \n",
       "my introduction to \u001b[30;48;2;255;255;0mPython\u001b[0m in 2012 So almost 11 years ago when made this automation framework at work and was big \n",
       "fan of Pearl back then guess that goes back to my Unix shell scripting initial \u001b[30;48;2;255;255;0mprogramming\u001b[0m exploration And it was \n",
       "not maintainable at all right There were no classes in Pearl and it was just mess Also of course because did no \n",
       "Pearl maybe very well But then discovered \u001b[30;48;2;255;255;0mPython\u001b[0m and could refactor it make it more modular and that project was \n",
       "then just joy to work with And maybe that says lot about \u001b[30;48;2;255;255;0mPython\u001b[0m as well that it does inherently things well because\n",
       "if you type in port this into REPL and you get the center of \u001b[30;48;2;255;255;0mPython\u001b[0m lot of these statements sound so simple that \n",
       "they re actually so profound and they actually tell you lot about writing clean code in sense So anyway but digress\n",
       "They do They also talk lot about the community that cares enough that you know you have these sorts of commands in \n",
       "the language itself that remind you to think about writing clean code And going way back to the late 80s you know \n",
       "when he came up with it really broke with tradition to use white space for the code structure And think it little \n",
       "bit less so now but back then that was very much to encourage people to write code in way that was very readable \n",
       "Whereas you know say less so than now because you ve got lot of IDEs and stuff We can push button and it ll auto \n",
       "format it and you ve got things like black And you know if you had curly races like it could still be quickly put \n",
       "into pretty shape now But in the early days that was really important concept of it These days were spoiled right \n",
       "Having black out of formatting and all that And when we started that was not the case How did you react to the \n",
       "white space thing when you first started it just really didn like it thought this is just weird Like okay \n",
       "everything else about this language seems pretty nice But this is weird stuff Then started using editors that \n",
       "understood it So like okay well just hit you know colon and enter in it It kind of does it for me automatically And\n",
       "sure there three spaces four spaces but if have backspace then it goes back forward It kind of treats it the \n",
       "structure The tools know the structure And it makes it really nice And at the time this is the long as doing sharp \n",
       "which is an okay language It pretty good But it has all the symbols and formulas and all the\n"
      ]
     },
     "metadata": {},
     "output_type": "display_data"
    }
   ],
   "source": [
    "keywords = kw_model.extract_keywords(text, highlight=True)"
   ]
  },
  {
   "cell_type": "code",
   "execution_count": 10,
   "metadata": {},
   "outputs": [
    {
     "data": {
      "text/plain": [
       "[('episode talk', 0.4047),\n",
       " ('write clean', 0.4155),\n",
       " ('python courses', 0.4349),\n",
       " ('cleanness code', 0.4777),\n",
       " ('podcast python', 0.5513)]"
      ]
     },
     "execution_count": 10,
     "metadata": {},
     "output_type": "execute_result"
    }
   ],
   "source": [
    "kw_model.extract_keywords(text, keyphrase_ngram_range=(2, 2), stop_words='english',\n",
    "                              use_maxsum=True, nr_candidates=20, top_n=5)"
   ]
  },
  {
   "cell_type": "code",
   "execution_count": 12,
   "metadata": {},
   "outputs": [
    {
     "data": {
      "text/plain": [
       "[('talk python', 0.5674),\n",
       " ('cleanness code', 0.4777),\n",
       " ('episode 404', 0.2113),\n",
       " ('awesome hear', 0.0951),\n",
       " ('energy types', -0.0332)]"
      ]
     },
     "execution_count": 12,
     "metadata": {},
     "output_type": "execute_result"
    }
   ],
   "source": [
    "kw_model.extract_keywords(text, keyphrase_ngram_range=(2, 2), stop_words='english',\n",
    "                              use_mmr=True, diversity=0.7)"
   ]
  },
  {
   "cell_type": "code",
   "execution_count": 13,
   "metadata": {},
   "outputs": [
    {
     "data": {
      "text/plain": [
       "[('talk python', 0.5674),\n",
       " ('podcast python', 0.5513),\n",
       " ('python episode', 0.4836),\n",
       " ('cleanness code', 0.4777),\n",
       " ('introduction python', 0.4666)]"
      ]
     },
     "execution_count": 13,
     "metadata": {},
     "output_type": "execute_result"
    }
   ],
   "source": [
    "kw_model.extract_keywords(text, keyphrase_ngram_range=(2, 2), stop_words='english',\n",
    "                              use_mmr=True, diversity=0.2)"
   ]
  },
  {
   "attachments": {},
   "cell_type": "markdown",
   "metadata": {},
   "source": [
    "KeyBERT supports many embedding models that can be used to embed the documents and words:\n",
    "\n",
    "Sentence-Transformers\n",
    "Flair\n",
    "Spacy\n",
    "Gensim\n",
    "USE\n",
    "\n",
    "kw_model = KeyBERT(model='all-MiniLM-L6-v2')"
   ]
  },
  {
   "attachments": {},
   "cell_type": "markdown",
   "metadata": {},
   "source": [
    "https://pypi.org/project/flair/"
   ]
  },
  {
   "cell_type": "code",
   "execution_count": null,
   "metadata": {},
   "outputs": [],
   "source": [
    "from keybert import KeyBERT\n",
    "from flair.embeddings import TransformerDocumentEmbeddings\n",
    "\n",
    "roberta = TransformerDocumentEmbeddings('roberta-base')\n",
    "kw_model = KeyBERT(model=roberta)"
   ]
  }
 ],
 "metadata": {
  "kernelspec": {
   "display_name": "venv",
   "language": "python",
   "name": "python3"
  },
  "language_info": {
   "codemirror_mode": {
    "name": "ipython",
    "version": 3
   },
   "file_extension": ".py",
   "mimetype": "text/x-python",
   "name": "python",
   "nbconvert_exporter": "python",
   "pygments_lexer": "ipython3",
   "version": "3.10.9"
  },
  "orig_nbformat": 4,
  "vscode": {
   "interpreter": {
    "hash": "50c2f3fdaff21cf524066e6f7d306be0b9f081a5cbf5acb3eba5a76347fee337"
   }
  }
 },
 "nbformat": 4,
 "nbformat_minor": 2
}
