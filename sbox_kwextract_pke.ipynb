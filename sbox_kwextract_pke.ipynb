{
 "cells": [
  {
   "cell_type": "code",
   "execution_count": 1,
   "metadata": {},
   "outputs": [],
   "source": [
    "# https://github.com/boudinfl/pke"
   ]
  },
  {
   "cell_type": "code",
   "execution_count": null,
   "metadata": {},
   "outputs": [],
   "source": [
    "# pip install git+https://github.com/boudinfl/pke.git"
   ]
  },
  {
   "attachments": {},
   "cell_type": "markdown",
   "metadata": {},
   "source": [
    "https://github.com/boudinfl/pke#implemented-models\n",
    "\n",
    "pke currently implements the following keyphrase extraction models:\n",
    "\n",
    "* Unsupervised models\n",
    "    * Statistical models\n",
    "        * FirstPhrases\n",
    "        * TfIdf\n",
    "        * KPMiner (El-Beltagy and Rafea, 2010)\n",
    "        * YAKE (Campos et al., 2020)\n",
    "    * Graph-based models\n",
    "        * TextRank (Mihalcea and Tarau, 2004)\n",
    "        * SingleRank (Wan and Xiao, 2008)\n",
    "        * TopicRank (Bougouin et al., 2013)\n",
    "        * TopicalPageRank (Sterckx et al., 2015)\n",
    "        * PositionRank (Florescu and Caragea, 2017)\n",
    "        * MultipartiteRank (Boudin, 2018)\n",
    "* Supervised models\n",
    "    * Feature-based models\n",
    "        * Kea (Witten et al., 2005)"
   ]
  },
  {
   "cell_type": "code",
   "execution_count": 3,
   "metadata": {},
   "outputs": [],
   "source": [
    "import pke"
   ]
  },
  {
   "cell_type": "code",
   "execution_count": 7,
   "metadata": {},
   "outputs": [],
   "source": [
    "text_path = r\"artifacts\\text_samples\\example_1.txt\"\n",
    "with open(text_path, \"r\") as f:\n",
    "    text = f.read()"
   ]
  },
  {
   "cell_type": "code",
   "execution_count": 4,
   "metadata": {},
   "outputs": [
    {
     "data": {
      "text/plain": [
       "['Candidate',\n",
       " 'LoadFile',\n",
       " 'Sentence',\n",
       " '__builtins__',\n",
       " '__cached__',\n",
       " '__doc__',\n",
       " '__file__',\n",
       " '__loader__',\n",
       " '__name__',\n",
       " '__package__',\n",
       " '__path__',\n",
       " '__spec__',\n",
       " 'absolute_import',\n",
       " 'base',\n",
       " 'compute_document_frequency',\n",
       " 'compute_lda_model',\n",
       " 'data_structures',\n",
       " 'lang',\n",
       " 'load_document_frequency_file',\n",
       " 'load_lda_model',\n",
       " 'load_references',\n",
       " 'pke',\n",
       " 'readers',\n",
       " 'supervised',\n",
       " 'train_supervised_model',\n",
       " 'unsupervised',\n",
       " 'utils']"
      ]
     },
     "execution_count": 4,
     "metadata": {},
     "output_type": "execute_result"
    }
   ],
   "source": [
    "dir(pke)"
   ]
  },
  {
   "cell_type": "code",
   "execution_count": 5,
   "metadata": {},
   "outputs": [],
   "source": [
    "extractor = pke.unsupervised.TopicRank()"
   ]
  },
  {
   "cell_type": "code",
   "execution_count": 6,
   "metadata": {},
   "outputs": [
    {
     "data": {
      "text/plain": [
       "['FirstPhrases',\n",
       " 'KPMiner',\n",
       " 'MultipartiteRank',\n",
       " 'PositionRank',\n",
       " 'SingleRank',\n",
       " 'TextRank',\n",
       " 'TfIdf',\n",
       " 'TopicRank',\n",
       " 'TopicalPageRank',\n",
       " 'YAKE',\n",
       " '__builtins__',\n",
       " '__cached__',\n",
       " '__doc__',\n",
       " '__file__',\n",
       " '__loader__',\n",
       " '__name__',\n",
       " '__package__',\n",
       " '__path__',\n",
       " '__spec__',\n",
       " 'absolute_import',\n",
       " 'graph_based',\n",
       " 'statistical']"
      ]
     },
     "execution_count": 6,
     "metadata": {},
     "output_type": "execute_result"
    }
   ],
   "source": [
    "dir(pke.unsupervised)"
   ]
  },
  {
   "cell_type": "code",
   "execution_count": 8,
   "metadata": {},
   "outputs": [],
   "source": [
    "extractor.load_document(input=text, language='en')"
   ]
  },
  {
   "cell_type": "code",
   "execution_count": 9,
   "metadata": {},
   "outputs": [],
   "source": [
    "extractor.candidate_selection()"
   ]
  },
  {
   "cell_type": "code",
   "execution_count": 10,
   "metadata": {},
   "outputs": [],
   "source": [
    "extractor.candidate_weighting()"
   ]
  },
  {
   "cell_type": "code",
   "execution_count": 11,
   "metadata": {},
   "outputs": [],
   "source": [
    "keyphrases = extractor.get_n_best(n=10)"
   ]
  },
  {
   "cell_type": "code",
   "execution_count": 12,
   "metadata": {},
   "outputs": [
    {
     "data": {
      "text/plain": [
       "[('python', 0.04535651051997884),\n",
       " ('clean code', 0.034401409325373694),\n",
       " ('lot', 0.023082176908313445),\n",
       " ('legacy code monitor', 0.021783460292207225),\n",
       " ('best thing', 0.021393803576555438),\n",
       " ('right', 0.020083827502016097),\n",
       " ('times', 0.019536350852906368),\n",
       " ('mindset people', 0.019423406718157024),\n",
       " ('good ones', 0.018580916459268255),\n",
       " ('episode', 0.01834134269167768)]"
      ]
     },
     "execution_count": 12,
     "metadata": {},
     "output_type": "execute_result"
    }
   ],
   "source": [
    "keyphrases"
   ]
  },
  {
   "cell_type": "code",
   "execution_count": null,
   "metadata": {},
   "outputs": [],
   "source": []
  }
 ],
 "metadata": {
  "kernelspec": {
   "display_name": "venv",
   "language": "python",
   "name": "python3"
  },
  "language_info": {
   "codemirror_mode": {
    "name": "ipython",
    "version": 3
   },
   "file_extension": ".py",
   "mimetype": "text/x-python",
   "name": "python",
   "nbconvert_exporter": "python",
   "pygments_lexer": "ipython3",
   "version": "3.10.9"
  },
  "orig_nbformat": 4,
  "vscode": {
   "interpreter": {
    "hash": "50c2f3fdaff21cf524066e6f7d306be0b9f081a5cbf5acb3eba5a76347fee337"
   }
  }
 },
 "nbformat": 4,
 "nbformat_minor": 2
}
