{
 "cells": [
  {
   "cell_type": "code",
   "execution_count": 1,
   "metadata": {},
   "outputs": [
    {
     "name": "stderr",
     "output_type": "stream",
     "text": [
      "usage: ipykernel_launcher.py [-h] [--run] [--dryrun] [--onlynew] [--deleteold]\n",
      "                             [--quiet] [--list] [--keywords]\n",
      "                             [--template TEMPLATE] [--podcast PODCAST]\n",
      "                             [--date-from DATE_FROM] [--root-dir ROOT_DIR]\n",
      "                             [--user-agent USER_AGENT] [--hooks HOOKS]\n",
      "ipykernel_launcher.py: error: unrecognized arguments: --ip=127.0.0.1 --stdin=9013 --control=9011 --hb=9010 --Session.signature_scheme=\"hmac-sha256\" --Session.key=b\"a0d6cbd9-0909-420f-88df-44dcbccc0e1d\" --shell=9012 --transport=\"tcp\" --iopub=9014 --f=c:\\Users\\lgarzia\\AppData\\Roaming\\jupyter\\runtime\\kernel-v2-24220tYIqnT0yfeXq.json\n"
     ]
    },
    {
     "ename": "SystemExit",
     "evalue": "2",
     "output_type": "error",
     "traceback": [
      "An exception has occurred, use %tb to see the full traceback.\n",
      "\u001b[1;31mSystemExit\u001b[0m\u001b[1;31m:\u001b[0m 2\n"
     ]
    },
    {
     "name": "stderr",
     "output_type": "stream",
     "text": [
      "c:\\Users\\lgarzia\\Documents\\GitHub\\topic_extractions\\venv\\lib\\site-packages\\IPython\\core\\interactiveshell.py:3468: UserWarning: To exit: use 'exit', 'quit', or Ctrl-D.\n",
      "  warn(\"To exit: use 'exit', 'quit', or Ctrl-D.\", stacklevel=1)\n"
     ]
    }
   ],
   "source": [
    "import getpodcast\n",
    "\n",
    "opt = getpodcast.options(\n",
    "    date_from='2021-01-01',\n",
    "    root_dir='./podcast')\n",
    "\n",
    "podcasts = {\n",
    "    \"SGU\": \"https://feed.theskepticsguide.org/feed/sgu\"\n",
    "}\n",
    "\n",
    "getpodcast.getpodcast(podcasts, opt)"
   ]
  },
  {
   "cell_type": "code",
   "execution_count": null,
   "metadata": {},
   "outputs": [],
   "source": []
  }
 ],
 "metadata": {
  "kernelspec": {
   "display_name": "venv",
   "language": "python",
   "name": "python3"
  },
  "language_info": {
   "codemirror_mode": {
    "name": "ipython",
    "version": 3
   },
   "file_extension": ".py",
   "mimetype": "text/x-python",
   "name": "python",
   "nbconvert_exporter": "python",
   "pygments_lexer": "ipython3",
   "version": "3.10.9"
  },
  "orig_nbformat": 4,
  "vscode": {
   "interpreter": {
    "hash": "50c2f3fdaff21cf524066e6f7d306be0b9f081a5cbf5acb3eba5a76347fee337"
   }
  }
 },
 "nbformat": 4,
 "nbformat_minor": 2
}
